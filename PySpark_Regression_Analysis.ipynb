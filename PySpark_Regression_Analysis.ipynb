{
  "nbformat": 4,
  "nbformat_minor": 0,
  "metadata": {
    "colab": {
      "name": "PySpark_Regression_Analysis",
      "provenance": [],
      "include_colab_link": true
    },
    "kernelspec": {
      "name": "python3",
      "display_name": "Python 3"
    }
  },
  "cells": [
    {
      "cell_type": "markdown",
      "metadata": {
        "id": "view-in-github",
        "colab_type": "text"
      },
      "source": [
        "<a href=\"https://colab.research.google.com/github/KumanandN/Devops-Training/blob/main/PySpark_Regression_Analysis.ipynb\" target=\"_parent\"><img src=\"https://colab.research.google.com/assets/colab-badge.svg\" alt=\"Open In Colab\"/></a>"
      ]
    },
    {
      "cell_type": "code",
      "source": [
        "from pyspark import SparkContext, SparkConf\n",
        "conf = SparkConf().setAppName(\"read_file\")\n",
        "sc = SparkContext.getOrCreate(conf=conf)\n",
        "dataset = spark.read.csv('movie_ratings.csv')\n",
        "display(dataset)\n"
      ],
      "metadata": {
        "colab": {
          "base_uri": "https://localhost:8080/",
          "height": 34
        },
        "id": "j8iQEgDMJqwC",
        "outputId": "1dd51e72-e5ef-4535-b785-9ae5ad9703e7"
      },
      "execution_count": 91,
      "outputs": [
        {
          "output_type": "display_data",
          "data": {
            "text/plain": [
              "DataFrame[_c0: string, _c1: string]"
            ]
          },
          "metadata": {}
        }
      ]
    },
    {
      "cell_type": "code",
      "source": [
        "\n",
        "# Convert DataFrame to RDD\n",
        "rdd = dataset.rdd\n",
        "\n",
        "# Apply map transformation to the RDD\n",
        "rdd2 = rdd.map(lambda x: (x[0], (int(x[1]), 1)))\n",
        "display(rdd2)\n",
        "\n",
        "# Display the contents of rdd2 using collect()\n",
        "rdd2_contents = rdd2.collect()\n",
        "for item in rdd2_contents:\n",
        "    print(item)\n",
        "\n",
        "\n"
      ],
      "metadata": {
        "colab": {
          "base_uri": "https://localhost:8080/",
          "height": 382
        },
        "id": "NZJt2yoqLcjT",
        "outputId": "815a62bb-7d37-4b35-bd99-a86c37046376"
      },
      "execution_count": 92,
      "outputs": [
        {
          "output_type": "display_data",
          "data": {
            "text/plain": [
              "PythonRDD[434] at RDD at PythonRDD.scala:53"
            ]
          },
          "metadata": {}
        },
        {
          "output_type": "stream",
          "name": "stdout",
          "text": [
            "('The Shawshank Redemption', (3, 1))\n",
            "('The Matrix', (5, 1))\n",
            "('12 Angry Men', (3, 1))\n",
            "('12 Angry Men', (4, 1))\n",
            "('The Matrix', (5, 1))\n",
            "('Pulp Fiction', (4, 1))\n",
            "('The Godfather', (5, 1))\n",
            "('The Shawshank Redemption', (2, 1))\n",
            "('Pulp Fiction', (4, 1))\n",
            "('The Godfather', (5, 1))\n",
            "('12 Angry Men', (2, 1))\n",
            "('The Godfather', (3, 1))\n",
            "('Pulp Fiction', (4, 1))\n",
            "('12 Angry Men', (1, 1))\n",
            "('The Shawshank Redemption', (2, 1))\n",
            "('12 Angry Men', (1, 1))\n",
            "('The Shawshank Redemption', (5, 1))\n",
            "('Pulp Fiction', (5, 1))\n",
            "('Pulp Fiction', (2, 1))\n",
            "('The Matrix', (4, 1))\n"
          ]
        }
      ]
    },
    {
      "cell_type": "code",
      "source": [
        "rdd3 = rdd2.reduceByKey(lambda x, y: (x[0] + y[0], x[1] + y[1]))\n",
        "\n",
        "rdd4 = rdd3.map(lambda x: (x[0], x[1][0] / x[1][1]))\n",
        "\n",
        "# Display the result\n",
        "display(rdd4)\n",
        "\n",
        "rdd3_contents = rdd4.collect()\n",
        "for item in rdd3_contents:\n",
        "    print(item)"
      ],
      "metadata": {
        "colab": {
          "base_uri": "https://localhost:8080/",
          "height": 121
        },
        "id": "tCD5RZPhYurT",
        "outputId": "c1785c2a-7570-4907-9a34-3541b45a2c82"
      },
      "execution_count": 59,
      "outputs": [
        {
          "output_type": "display_data",
          "data": {
            "text/plain": [
              "PythonRDD[229] at RDD at PythonRDD.scala:53"
            ]
          },
          "metadata": {}
        },
        {
          "output_type": "stream",
          "name": "stdout",
          "text": [
            "('The Shawshank Redemption', 3.0)\n",
            "('The Matrix', 4.666666666666667)\n",
            "('12 Angry Men', 2.2)\n",
            "('Pulp Fiction', 3.8)\n",
            "('The Godfather', 4.333333333333333)\n"
          ]
        }
      ]
    },
    {
      "cell_type": "code",
      "source": [
        "from pyspark import SparkContext, SparkConf\n",
        "conf = SparkConf().setAppName(\"read_file\")\n",
        "sc = SparkContext.getOrCreate(conf=conf)\n",
        "month = spark.read.csv('average_quiz_sample.csv')\n",
        "# Display the first few rows and schema\n",
        "display(month.head())\n",
        "display(month.printSchema())\n",
        "\n",
        "x = 'JAN,NY, 3.0'\n",
        "x.split(',')[0], ((float(x.split(',')[2]),1))"
      ],
      "metadata": {
        "colab": {
          "base_uri": "https://localhost:8080/",
          "height": 156
        },
        "id": "2MqVaWrDWvf-",
        "outputId": "6d342ce0-990f-45ef-92ad-8c163d16bec4"
      },
      "execution_count": 74,
      "outputs": [
        {
          "output_type": "display_data",
          "data": {
            "text/plain": [
              "Row(_c0='JAN', _c1='NY', _c2='3.0')"
            ]
          },
          "metadata": {}
        },
        {
          "output_type": "stream",
          "name": "stdout",
          "text": [
            "root\n",
            " |-- _c0: string (nullable = true)\n",
            " |-- _c1: string (nullable = true)\n",
            " |-- _c2: string (nullable = true)\n",
            "\n"
          ]
        },
        {
          "output_type": "display_data",
          "data": {
            "text/plain": [
              "None"
            ]
          },
          "metadata": {}
        },
        {
          "output_type": "execute_result",
          "data": {
            "text/plain": [
              "('JAN', (3.0, 1))"
            ]
          },
          "metadata": {},
          "execution_count": 74
        }
      ]
    },
    {
      "cell_type": "code",
      "source": [
        "# Convert DataFrame to RDD\n",
        "rdd = month.rdd\n",
        "\n",
        "\n",
        "rdd2 = rdd.map(lambda x: (x[0], ((float(x[2]),1))) ) # Convert _c2 to float\n",
        "\n",
        "print(\"input list\")\n",
        "rdd4_contents = rdd2.collect()\n",
        "for item in rdd4_contents:\n",
        "    print(item)\n",
        "\n",
        "# Reduce by key to sum values and counts\n",
        "rdd3 = rdd2.reduceByKey(lambda x, y: (x[0] + y[0], x[1] + y[1]))\n",
        "\n",
        "print(\"Total sum\")\n",
        "rdd4_contents = rdd3.collect()\n",
        "for item in rdd4_contents:\n",
        "    print(item)\n",
        "\n",
        "# Calculate the average\n",
        "rdd5 = rdd3.map(lambda x: (x[0], x[1][0] / x[1][1]))\n",
        "\n",
        "# Display the result\n",
        "display(rdd4)\n",
        "\n",
        "print(\"Average of each month\")\n",
        "rdd4_contents = rdd5.collect()\n",
        "for item in rdd4_contents:\n",
        "    print(item)"
      ],
      "metadata": {
        "colab": {
          "base_uri": "https://localhost:8080/",
          "height": 399
        },
        "id": "NhmqdwvzXAUe",
        "outputId": "bdd48dd6-1cc0-44f4-adbe-bbddbe05b6f4"
      },
      "execution_count": 90,
      "outputs": [
        {
          "output_type": "stream",
          "name": "stdout",
          "text": [
            "input list\n",
            "('JAN', (3.0, 1))\n",
            "('JAN', (1.0, 1))\n",
            "('JAN', (2.0, 1))\n",
            "('JAN', (4.0, 1))\n",
            "('FEB', (1.0, 1))\n",
            "('FEB', (1.0, 1))\n",
            "('FEB', (2.0, 1))\n",
            "('FEB', (1.0, 1))\n",
            "('MAR', (2.0, 1))\n",
            "('MAR', (1.0, 1))\n",
            "('MAR', (2.0, 1))\n",
            "('MAR', (3.0, 1))\n",
            "Total sum\n",
            "('JAN', (10.0, 4))\n",
            "('FEB', (5.0, 4))\n",
            "('MAR', (8.0, 4))\n"
          ]
        },
        {
          "output_type": "display_data",
          "data": {
            "text/plain": [
              "PythonRDD[324] at RDD at PythonRDD.scala:53"
            ]
          },
          "metadata": {}
        },
        {
          "output_type": "stream",
          "name": "stdout",
          "text": [
            "Average of each month\n",
            "('JAN', 2.5)\n",
            "('FEB', 1.25)\n",
            "('MAR', 2.0)\n"
          ]
        }
      ]
    }
  ]
}